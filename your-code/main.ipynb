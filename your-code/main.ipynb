{
 "cells": [
  {
   "cell_type": "markdown",
   "id": "31807e5d",
   "metadata": {},
   "source": [
    "# Common table expressions"
   ]
  },
  {
   "cell_type": "markdown",
   "id": "525bb87f",
   "metadata": {},
   "source": [
    "Using the northwind database"
   ]
  },
  {
   "cell_type": "markdown",
   "id": "434a02a8",
   "metadata": {},
   "source": [
    "## 1. Write a CTE that lists the names and quantities of products with a unit price greater than $50."
   ]
  },
  {
   "cell_type": "code",
   "execution_count": null,
   "id": "83b76443",
   "metadata": {
    "vscode": {
     "languageId": "sql"
    }
   },
   "outputs": [],
   "source": [
    "WITH totalquants AS (\n",
    "\tSELECT ProductID,SUM(Quantity) AS total_quantity\n",
    "\tFROM OrderDetails od \n",
    "\tGROUP BY ProductID\n",
    ")\n",
    "SELECT p.ProductName, t.total_quantity, p.Unit AS Unit\n",
    "FROM Products p \n",
    "JOIN totalquants t ON p.ProductID = t.ProductID\n",
    "WHERE p.Price > 50;\n"
   ]
  },
  {
   "cell_type": "markdown",
   "id": "2c9697c9",
   "metadata": {},
   "source": [
    "#### Expected results\n",
    "\n",
    "|ProductName                     |Unit|\n",
    "|--------------------------------|----|\n",
    "|Mishi Kobe Niku                 |18 - 500 g pkgs.|\n",
    "|Carnarvon Tigers                |16 kg pkg.|\n",
    "|Sir Rodney's Marmalade          |30 gift boxes|\n",
    "|Thüringer Rostbratwurst         |50 bags x 30 sausgs.|\n",
    "|Côte de Blaye                   |12 - 75 cl bottles|\n",
    "|Manjimup Dried Apples           |50 - 300 g pkgs.|\n",
    "|Raclette Courdavault            |5 kg pkg.|\n"
   ]
  },
  {
   "cell_type": "markdown",
   "id": "1dc2612a",
   "metadata": {},
   "source": [
    "## 2. What are the top 5 most profitable products?"
   ]
  },
  {
   "cell_type": "markdown",
   "id": "a0f2d37a",
   "metadata": {},
   "source": [
    "```sql\n",
    "-- Your code down below\n",
    "```"
   ]
  },
  {
   "cell_type": "code",
   "execution_count": null,
   "id": "397749ae",
   "metadata": {
    "vscode": {
     "languageId": "sql"
    }
   },
   "outputs": [],
   "source": [
    "WITH totalquants AS (\n",
    "\tSELECT ProductID,SUM(Quantity) AS total_quantity\n",
    "\tFROM OrderDetails od \n",
    "\tGROUP BY ProductID\n",
    ")\n",
    "SELECT p.ProductID, p.ProductName, t.total_quantity * p.Price AS Total_Revenue\n",
    "FROM Products p \n",
    "JOIN totalquants t ON p.ProductID = t.ProductID\n",
    "ORDER BY Total_Revenue DESC\n",
    "LIMIT 5;\n"
   ]
  },
  {
   "cell_type": "markdown",
   "id": "4ff56e03",
   "metadata": {},
   "source": [
    "#### Expected results\n",
    "Alice Mutton is 6th\n",
    "\n",
    "|ProductID                       |ProductName|TotalRevenue|\n",
    "|--------------------------------|-----------|------------|\n",
    "|-                             |-|-       |\n",
    "|-                           |-|-       |\n",
    "|-                            |-|-       |\n",
    "|-                             |-|-       |\n",
    "|-                              |-|-       |\n",
    "|17                              |Alice Mutton|12909       |"
   ]
  },
  {
   "cell_type": "markdown",
   "id": "4bb46f4d",
   "metadata": {},
   "source": [
    "## 3. Write a CTE that lists the top 5 categories by the number of products they have."
   ]
  },
  {
   "cell_type": "markdown",
   "id": "5dad5f54",
   "metadata": {},
   "source": [
    "```sql\n",
    "-- Your code down below\n",
    "```"
   ]
  },
  {
   "cell_type": "code",
   "execution_count": null,
   "id": "b83a5604",
   "metadata": {
    "vscode": {
     "languageId": "sql"
    }
   },
   "outputs": [],
   "source": [
    "WITH cat_product_count AS (\n",
    "    SELECT c.CategoryName, COUNT(p.ProductID) AS Product_Count\n",
    "    FROM Products p\n",
    "    JOIN Categories c ON p.CategoryID = c.CategoryID\n",
    "    GROUP BY c.CategoryName\n",
    ")\n",
    "SELECT CategoryName, Product_Count\n",
    "FROM cat_product_count\n",
    "ORDER BY Product_Count DESC\n",
    "LIMIT 5;"
   ]
  },
  {
   "cell_type": "markdown",
   "id": "93cd676e",
   "metadata": {},
   "source": [
    "#### Expected result\n",
    "|CategoryName                    |ProductCount|\n",
    "|--------------------------------|------------|\n",
    "|Confections                     |13          |\n",
    "|Beverages                       |12          |\n",
    "|Condiments                      |12          |\n",
    "|Seafood                         |12          |\n",
    "|Dairy Products                  |10          |\n"
   ]
  },
  {
   "cell_type": "markdown",
   "id": "4818e498",
   "metadata": {},
   "source": [
    "## 4. Write a CTE that shows the average order quantity for each product category."
   ]
  },
  {
   "cell_type": "markdown",
   "id": "79d18b03",
   "metadata": {},
   "source": [
    "```sql\n",
    "-- Your code down below\n",
    "\n",
    "```"
   ]
  },
  {
   "cell_type": "code",
   "execution_count": null,
   "id": "eb2571d6",
   "metadata": {
    "vscode": {
     "languageId": "sql"
    }
   },
   "outputs": [],
   "source": [
    "WITH avg_quant_cat AS (\n",
    "\tSELECT c.CategoryName ,AVG(od.Quantity) AS avg_order_quantity\n",
    "\tFROM OrderDetails od\n",
    "\tJOIN Products p ON od.ProductID = p.ProductID\n",
    "\tJOIN Categories c ON p.CategoryID = c.CategoryID\n",
    "\tGROUP BY c.CategoryName\n",
    ")\n",
    "SELECT CategoryName, avg_order_quantity\n",
    "FROM avg_quant_cat\n",
    "ORDER BY avg_order_quantity DESC;\n"
   ]
  },
  {
   "cell_type": "markdown",
   "id": "2b37466f",
   "metadata": {},
   "source": [
    "|CategoryName                    |AvgOrderQuantity|\n",
    "|--------------------------------|----------------|\n",
    "|Beverages                       |24.6129         |\n",
    "|Condiments                      |28.2245         |\n",
    "|Confections                     |25.1190         |\n",
    "|Dairy Products                  |26.0100         |\n",
    "|Grains/Cereals                  |21.7143         |\n",
    "|Meat/Poultry                    |25.7600         |\n",
    "|Produce                         |21.6667         |\n",
    "|Seafood                         |21.5672         |\n"
   ]
  },
  {
   "cell_type": "markdown",
   "id": "1c52c56d",
   "metadata": {},
   "source": [
    "# 5. Create a CTE to calculate the average order amount for each customer."
   ]
  },
  {
   "cell_type": "markdown",
   "id": "a7a4c8a6",
   "metadata": {},
   "source": [
    "```sql\n",
    "-- Your code down below\n",
    "\n",
    "\n",
    "```"
   ]
  },
  {
   "cell_type": "code",
   "execution_count": null,
   "id": "21a5d6bd",
   "metadata": {
    "vscode": {
     "languageId": "sql"
    }
   },
   "outputs": [],
   "source": [
    "WITH order_customer AS (\n",
    "SELECT o.CustomerID, c.CustomerName, od.Quantity, p.Price\n",
    "FROM Orders o \n",
    "JOIN OrderDetails od ON o.OrderID = od.OrderID\n",
    "JOIN Customers c ON o.CustomerID = c.CustomerID\n",
    "JOIN Products p ON p.ProductID = od.ProductID\n",
    "GROUP BY o.CustomerID\n",
    ")\n",
    "SELECT CustomerID, CustomerName, AVG(Quantity * Price ) AS avg_amount\n",
    "FROM order_customer\n",
    "GROUP BY CustomerName\n",
    "ORDER BY avg_amount DESC;\n"
   ]
  },
  {
   "cell_type": "markdown",
   "id": "87f8ad8a",
   "metadata": {},
   "source": [
    "|CustomerID                      |CustomerName|AvgOrderAmount|\n",
    "|--------------------------------|------------|--------------|\n",
    "|59                              |Piccolo und mehr|4014.2500     |\n",
    "|73                              |Simons bistro|2444.3333     |\n",
    "|62                              |Queen Cozinha|1991.6667     |\n",
    "|51                              |Mère Paillarde|1673.8571     |\n",
    "|71                              |Save-a-lot Markets|1407.2500     |\n",
    "|76                              |Suprêmes délices|1345.8333     |\n",
    "|81                              |Tradição Hipermercados|1315.6667     |\n",
    "|7                               |Blondel père et fils|1174.4615     |\n",
    "|89                              |White Clover Markets|1112.5000     |\n",
    "|55                              |Old World Delicatessen|1079.5000     |\n",
    "|20                              |Ernst Handel|1018.0000     |\n",
    "|19                              |Eastern Connection|1004.8000     |\n",
    "|68                              |Richter Supermarkt|976.6667      |\n",
    "|72                              |Seven Seas Imports|934.0000      |\n",
    "|63                              |QUICK-Stop  |908.5500      |\n",
    "|25                              |Frankenversand|895.0667      |\n",
    "|75                              |Split Rail Beer & Ale|854.7692      |\n",
    "|65                              |Rattlesnake Canyon Grocery|838.2727      |\n",
    "|52                              |Morgenstern Gesundkost|754.0000      |\n",
    "|9                               |Bon app''   |750.4286      |\n",
    "|37                              |Hungry Owl All-Night Grocers|733.5714      |\n",
    "|35                              |HILARIÓN-Abastos|722.8333      |\n",
    "|33                              |GROSELLA-Restaurante|690.0000      |\n",
    "|34                              |Hanari Carnes|681.0000      |\n",
    "|15                              |Comércio Mineiro|677.5000      |\n",
    "|23                              |Folies gourmandes|672.3333      |\n",
    "|10                              |Bottom-Dollar Marketse|664.0000      |\n",
    "|31                              |Gourmet Lanchonetes|641.0000      |\n",
    "|60                              |Princesa Isabel Vinhoss|628.5000      |\n",
    "|5                               |Berglunds snabbköp|601.5556      |\n",
    "|46                              |LILA-Supermercado|564.7692      |\n",
    "|44                              |Lehmanns Marktstand|545.7500      |\n",
    "|30                              |Godos Cocina Típica|515.0000      |\n",
    "|3                               |Antonio Moreno Taquería|504.0000      |\n",
    "|88                              |Wellington Importadora|503.8333      |\n",
    "|47                              |LINO-Delicateses|500.0000      |\n",
    "|56                              |Ottilies Käseladen|500.0000      |\n",
    "|87                              |Wartian Herkku|492.5833      |\n",
    "|24                              |Folk och fä HB|480.2222      |\n",
    "|49                              |Magazzini Alimentari Riuniti|464.2857      |\n",
    "|86                              |Die Wandernde Kuh|441.9091      |\n",
    "|41                              |La maison d''Asie|437.8182      |\n",
    "|8                               |Bólido Comidas preparadas|416.0000      |\n",
    "|83                              |Vaffeljernet|411.0000      |\n",
    "|14                              |Chop-suey Chinese|374.8333      |\n",
    "|80                              |Tortuga Restaurante|357.4167      |\n"
   ]
  },
  {
   "cell_type": "markdown",
   "id": "0afe0ce7",
   "metadata": {},
   "source": [
    "## 6. Sales Analysis with CTEs\n",
    "\n",
    "Assume we have the Northwind database which contains tables like Orders, OrderDetails, and Products. Create a CTE that calculates the total sales for each product in the year 1997."
   ]
  },
  {
   "cell_type": "markdown",
   "id": "ab69696b",
   "metadata": {},
   "source": [
    "```sql\n",
    "-- Your code down below\n",
    "\n",
    " ```"
   ]
  },
  {
   "cell_type": "code",
   "execution_count": null,
   "id": "f0a04f19",
   "metadata": {
    "vscode": {
     "languageId": "sql"
    }
   },
   "outputs": [],
   "source": [
    "WITH product_orders AS (\n",
    "\tSELECT p.ProductName, od.Quantity, o.OrderDate \n",
    "\tFROM Products p \n",
    "\tJOIN OrderDetails od ON p.ProductID = od.ProductID\n",
    "\tJOIN Orders o ON od.OrderID = o.OrderID \n",
    ")\n",
    "SELECT ProductName, SUM(Quantity) AS total_sales\n",
    "FROM product_orders \n",
    "WHERE OrderDate LIKE '1997%'\n",
    "GROUP BY ProductName\n",
    "ORDER BY total_sales DESC;"
   ]
  },
  {
   "cell_type": "markdown",
   "id": "53cee109",
   "metadata": {},
   "source": [
    "#### Expected result\n",
    "\n",
    "|ProductName                     |TotalSales|\n",
    "|--------------------------------|----------|\n",
    "|Gnocchi di nonna Alice          |173       |\n",
    "|Tourtière                       |126       |\n",
    "|Geitost                         |119       |\n",
    "|Chang                           |115       |\n",
    "|Raclette Courdavault            |115       |\n",
    "|Sirop d'érable                  |106       |\n",
    "|Vegie-spread                    |100       |\n",
    "|Côte de Blaye                   |99        |\n",
    "|Alice Mutton                    |97        |\n",
    "|Steeleye Stout                  |95        |\n",
    "|Sir Rodney's Scones             |92        |\n",
    "|Pavlova                         |86        |\n",
    "|Zaanse koeken                   |85        |\n",
    "|Fløtemysost                     |75        |\n",
    "|Tarte au sucre                  |75        |\n"
   ]
  }
 ],
 "metadata": {
  "kernelspec": {
   "display_name": "Python 3",
   "language": "python",
   "name": "python3"
  },
  "language_info": {
   "codemirror_mode": {
    "name": "ipython",
    "version": 3
   },
   "file_extension": ".py",
   "mimetype": "text/x-python",
   "name": "python",
   "nbconvert_exporter": "python",
   "pygments_lexer": "ipython3",
   "version": "3.12.0"
  },
  "nbTranslate": {
   "displayLangs": [
    "en",
    "es"
   ],
   "hotkey": "alt-a",
   "langInMainMenu": true,
   "sourceLang": "es",
   "targetLang": "en",
   "useGoogleTranslate": true
  }
 },
 "nbformat": 4,
 "nbformat_minor": 5
}
